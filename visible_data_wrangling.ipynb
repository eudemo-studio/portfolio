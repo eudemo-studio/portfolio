{
  "nbformat": 4,
  "nbformat_minor": 0,
  "metadata": {
    "colab": {
      "name": "visible_data_wrangling.ipynb",
      "provenance": [],
      "collapsed_sections": [],
      "authorship_tag": "ABX9TyN6bUCgBK5/ZwANpk+h7WPX",
      "include_colab_link": true
    },
    "kernelspec": {
      "name": "python3",
      "display_name": "Python 3"
    },
    "language_info": {
      "name": "python"
    }
  },
  "cells": [
    {
      "cell_type": "markdown",
      "metadata": {
        "id": "view-in-github",
        "colab_type": "text"
      },
      "source": [
        "<a href=\"https://colab.research.google.com/github/eudemo-studio/eudemo-portfolio/blob/master/visible_data_wrangling.ipynb\" target=\"_parent\"><img src=\"https://colab.research.google.com/assets/colab-badge.svg\" alt=\"Open In Colab\"/></a>"
      ]
    },
    {
      "cell_type": "markdown",
      "source": [
        "**Section 1:** Import required packages into Python environment & connect to Google Drive 🐍"
      ],
      "metadata": {
        "id": "YtsJIF2xalk5"
      }
    },
    {
      "cell_type": "code",
      "execution_count": null,
      "metadata": {
        "id": "dD3DR6khZC9K"
      },
      "outputs": [],
      "source": [
        "# Import numpy and pandas packages\n",
        "import numpy as np\n",
        "import pandas as pd\n",
        "\n",
        "# Import library for connecting Google Colab to Google Drive\n",
        "from google.colab import drive\n",
        "\n",
        "# Connect Google Colab to Google Drive (eudemo.co)\n",
        "drive.mount(\"/content/drive\")"
      ]
    },
    {
      "cell_type": "markdown",
      "source": [
        "**Section 2:** Import HR & RR .txt datasets from Google Drive into Python environment ⬇️"
      ],
      "metadata": {
        "id": "g3JZqMsYZvN6"
      }
    },
    {
      "cell_type": "code",
      "source": [
        "# Import Heart Rate (HR) .txt files (with semicolon separators)\n",
        "# Heart Rate (HR) measured in Beats Per Minute (BPM)\n",
        "HS_1204_HR_morning        = pd.read_csv(\"/content/drive/MyDrive/A1. Projects & Collaborations/015. Visible/workflow-python/raw_data/HS 12-04 HR morning.txt\", sep=\";\")\n",
        "HS_1204_HR_evening        = pd.read_csv(\"/content/drive/MyDrive/A1. Projects & Collaborations/015. Visible/workflow-python/raw_data/HS 12-04 HR evening.txt\", sep=\";\")\n",
        "HS_1304_HR_morning        = pd.read_csv(\"/content/drive/MyDrive/A1. Projects & Collaborations/015. Visible/workflow-python/raw_data/HS 13-04 HR Morning.txt\", sep=\";\")\n",
        "HS_1304_HR_afternoon      = pd.read_csv(\"/content/drive/MyDrive/A1. Projects & Collaborations/015. Visible/workflow-python/raw_data/HS 13-04 HR Afternoon.txt\", sep=\";\")\n",
        "HS_1304_HR_evening        = pd.read_csv(\"/content/drive/MyDrive/A1. Projects & Collaborations/015. Visible/workflow-python/raw_data/HS 13-04 HR Evening.txt\", sep=\";\")\n",
        "HS_1404_HR_early_morning  = pd.read_csv(\"/content/drive/MyDrive/A1. Projects & Collaborations/015. Visible/workflow-python/raw_data/HS 14-04 HR Early Morning.txt\", sep=\";\")\n",
        "HS_1404_HR_morning        = pd.read_csv(\"/content/drive/MyDrive/A1. Projects & Collaborations/015. Visible/workflow-python/raw_data/HS 14-04 HR Morning.txt\", sep=\";\")\n",
        "\n",
        "# Import RR Interval (RR) .txt files (with semicolon separators)\n",
        "# RR Interval (RR) measured in Milliseconds (ms)\n",
        "HS_1204_RR_morning        = pd.read_csv(\"/content/drive/MyDrive/A1. Projects & Collaborations/015. Visible/workflow-python/raw_data/HS 12-04 RR morning.txt\", sep=\";\")\n",
        "HS_1204_RR_evening        = pd.read_csv(\"/content/drive/MyDrive/A1. Projects & Collaborations/015. Visible/workflow-python/raw_data/HS 12-04 RR evening.txt\", sep=\";\")\n",
        "HS_1304_RR_morning        = pd.read_csv(\"/content/drive/MyDrive/A1. Projects & Collaborations/015. Visible/workflow-python/raw_data/HS 13-04 RR Morning.txt\", sep=\";\")\n",
        "HS_1304_RR_afternoon      = pd.read_csv(\"/content/drive/MyDrive/A1. Projects & Collaborations/015. Visible/workflow-python/raw_data/HS 13-04 RR Afternoon.txt\", sep=\";\")\n",
        "HS_1304_RR_evening        = pd.read_csv(\"/content/drive/MyDrive/A1. Projects & Collaborations/015. Visible/workflow-python/raw_data/HS 13-04 RR Evening.txt\", sep=\";\")\n",
        "HS_1404_RR_early_morning  = pd.read_csv(\"/content/drive/MyDrive/A1. Projects & Collaborations/015. Visible/workflow-python/raw_data/HS 14-04 RR Early Morning.txt\", sep=\";\")\n",
        "HS_1404_RR_morning        = pd.read_csv(\"/content/drive/MyDrive/A1. Projects & Collaborations/015. Visible/workflow-python/raw_data/HS 14-04 RR Morning.txt\", sep=\";\")"
      ],
      "metadata": {
        "id": "XL8bAPyofYpF"
      },
      "execution_count": null,
      "outputs": []
    },
    {
      "cell_type": "markdown",
      "source": [
        "**Section 3:** Binding datasets together, to form consolidated HR & RR dataframes 🤝"
      ],
      "metadata": {
        "id": "RlcGiZ6QwE26"
      }
    },
    {
      "cell_type": "code",
      "source": [
        "# Bind together datasets by rows, to form 'hr_df' & 'rr_df'\n",
        "hr_df = pd.concat([HS_1204_HR_morning, HS_1204_HR_evening, HS_1304_HR_morning, HS_1304_HR_afternoon, HS_1304_HR_evening, HS_1404_HR_early_morning, HS_1404_HR_morning])\n",
        "rr_df = pd.concat([HS_1204_RR_morning, HS_1204_RR_evening, HS_1304_RR_morning, HS_1304_RR_afternoon, HS_1304_RR_evening, HS_1404_RR_early_morning, HS_1404_RR_morning])"
      ],
      "metadata": {
        "id": "vO5WfrH-wDky"
      },
      "execution_count": null,
      "outputs": []
    },
    {
      "cell_type": "markdown",
      "source": [
        "**Section 4:** Formatting the new dataframes - renaming column headers & changing column type 🧹"
      ],
      "metadata": {
        "id": "xtAoxiLctMAv"
      }
    },
    {
      "cell_type": "code",
      "source": [
        "# Rename columns to remove capitals & spaces\n",
        "hr_df.rename(columns = {'Phone timestamp':'date_time', 'HR [bpm]':'hr_bpm'}, inplace=True)\n",
        "rr_df.rename(columns = {'Phone timestamp':'date_time', 'RR-interval [ms]':'rr_interval_ms'}, inplace=True)\n",
        "\n",
        "# Convert 'date_time' column into datetime format\n",
        "hr_df['date_time'] = pd.to_datetime(hr_df['date_time'])\n",
        "rr_df['date_time'] = pd.to_datetime(rr_df['date_time'])"
      ],
      "metadata": {
        "id": "uXvdCd3OtIKE"
      },
      "execution_count": null,
      "outputs": []
    },
    {
      "cell_type": "markdown",
      "source": [
        "**Section 5:** Export tidied dataframes to CSV 🚢"
      ],
      "metadata": {
        "id": "0nPE2SIpzzh2"
      }
    },
    {
      "cell_type": "code",
      "source": [
        "# Export to CSV in 'tidy_data' folder\n",
        "hr_df.to_csv(\"/content/drive/MyDrive/A1. Projects & Collaborations/015. Visible/workflow-python/tidy_data/hr.csv\")\n",
        "rr_df.to_csv(\"/content/drive/MyDrive/A1. Projects & Collaborations/015. Visible/workflow-python/tidy_data/rr.csv\")"
      ],
      "metadata": {
        "id": "tonMn32Z1VQ3"
      },
      "execution_count": null,
      "outputs": []
    }
  ]
}